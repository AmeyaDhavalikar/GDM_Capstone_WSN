{
 "cells": [
  {
   "cell_type": "code",
   "execution_count": 1,
   "metadata": {},
   "outputs": [],
   "source": [
    "from sklearn.model_selection import LeaveOneOut\n",
    "import networkx as nx\n",
    "import math\n",
    "import sys\n",
    "import pandas as pd"
   ]
  },
  {
   "cell_type": "code",
   "execution_count": 2,
   "metadata": {},
   "outputs": [],
   "source": [
    "def initialize_scores(G):\n",
    "    fairness = {}\n",
    "    goodness = {}\n",
    "    \n",
    "    nodes = G.nodes()\n",
    "    #print(nodes)\n",
    "    for node in nodes:\n",
    "        fairness[node] = 1\n",
    "        try:\n",
    "            goodness[node] = G.in_degree(node, weight='weight')*1.0/G.in_degree(node)\n",
    "        except:\n",
    "            goodness[node] = 0\n",
    "    return fairness, goodness"
   ]
  },
  {
   "cell_type": "code",
   "execution_count": 3,
   "metadata": {},
   "outputs": [],
   "source": [
    "def compute_fairness_goodness(G):\n",
    "    fairness, goodness = initialize_scores(G)\n",
    "    \n",
    "    nodes = G.nodes()\n",
    "    iter = 0\n",
    "    while iter < 100:\n",
    "        df = 0\n",
    "        dg = 0\n",
    "\n",
    "        print('-----------------')\n",
    "        print(\"Iteration number\", iter)\n",
    "        \n",
    "        print('Updating goodness')\n",
    "        for node in nodes:\n",
    "            inedges = G.in_edges(node, data='weight')\n",
    "            #print(inedges)\n",
    "            g = 0\n",
    "            for edge in inedges:\n",
    "                g += fairness[edge[0]]*edge[2]\n",
    "\n",
    "            try:\n",
    "                dg += abs(g/len(inedges) - goodness[node])\n",
    "                goodness[node] = g/len(inedges)\n",
    "            except:\n",
    "                pass\n",
    "\n",
    "        print('Updating fairness')\n",
    "        for node in nodes:\n",
    "            outedges = G.out_edges(node, data='weight')\n",
    "            f = 0\n",
    "            for edge in outedges:\n",
    "                f += 1.0 - abs(edge[2] - goodness[edge[1]])/2.0\n",
    "            try:\n",
    "                df += abs(f/len(outedges) - fairness[node])\n",
    "                fairness[node] = f/len(outedges)\n",
    "            except:\n",
    "                pass\n",
    "        \n",
    "        print('Differences in fairness score and goodness score = %.2f, %.2f' % (df, dg))\n",
    "        if df < math.pow(10, -6) and dg < math.pow(10, -6):\n",
    "            break\n",
    "        iter+=1\n",
    "    return fairness, goodness "
   ]
  },
  {
   "cell_type": "code",
   "execution_count": 4,
   "metadata": {},
   "outputs": [],
   "source": [
    "G = nx.DiGraph()"
   ]
  },
  {
   "cell_type": "code",
   "execution_count": 5,
   "metadata": {},
   "outputs": [],
   "source": [
    "f = open(\"db/OTCNet.csv\",\"r\")"
   ]
  },
  {
   "cell_type": "code",
   "execution_count": 6,
   "metadata": {},
   "outputs": [],
   "source": [
    "for l in f:\n",
    "    try:\n",
    "        ls = l.strip().split(\",\")\n",
    "        G.add_edge(ls[0], ls[1], weight = float(ls[2])) ## the weight should already be in the range of -1 to 1\n",
    "    except:\n",
    "        continue\n",
    "f.close()"
   ]
  },
  {
   "cell_type": "code",
   "execution_count": 7,
   "metadata": {},
   "outputs": [
    {
     "name": "stdout",
     "output_type": "stream",
     "text": [
      "-----------------\n",
      "Iteration number 0\n",
      "Updating goodness\n",
      "Updating fairness\n",
      "Differences in fairness score and goodness score = 382.21, 0.00\n",
      "-----------------\n",
      "Iteration number 1\n",
      "Updating goodness\n",
      "Updating fairness\n",
      "Differences in fairness score and goodness score = 34.47, 102.29\n",
      "-----------------\n",
      "Iteration number 2\n",
      "Updating goodness\n",
      "Updating fairness\n",
      "Differences in fairness score and goodness score = 2.39, 6.97\n",
      "-----------------\n",
      "Iteration number 3\n",
      "Updating goodness\n",
      "Updating fairness\n",
      "Differences in fairness score and goodness score = 0.39, 1.06\n",
      "-----------------\n",
      "Iteration number 4\n",
      "Updating goodness\n",
      "Updating fairness\n",
      "Differences in fairness score and goodness score = 0.10, 0.24\n",
      "-----------------\n",
      "Iteration number 5\n",
      "Updating goodness\n",
      "Updating fairness\n",
      "Differences in fairness score and goodness score = 0.03, 0.06\n",
      "-----------------\n",
      "Iteration number 6\n",
      "Updating goodness\n",
      "Updating fairness\n",
      "Differences in fairness score and goodness score = 0.01, 0.02\n",
      "-----------------\n",
      "Iteration number 7\n",
      "Updating goodness\n",
      "Updating fairness\n",
      "Differences in fairness score and goodness score = 0.00, 0.00\n",
      "-----------------\n",
      "Iteration number 8\n",
      "Updating goodness\n",
      "Updating fairness\n",
      "Differences in fairness score and goodness score = 0.00, 0.00\n",
      "-----------------\n",
      "Iteration number 9\n",
      "Updating goodness\n",
      "Updating fairness\n",
      "Differences in fairness score and goodness score = 0.00, 0.00\n",
      "-----------------\n",
      "Iteration number 10\n",
      "Updating goodness\n",
      "Updating fairness\n",
      "Differences in fairness score and goodness score = 0.00, 0.00\n",
      "-----------------\n",
      "Iteration number 11\n",
      "Updating goodness\n",
      "Updating fairness\n",
      "Differences in fairness score and goodness score = 0.00, 0.00\n",
      "-----------------\n",
      "Iteration number 12\n",
      "Updating goodness\n",
      "Updating fairness\n",
      "Differences in fairness score and goodness score = 0.00, 0.00\n",
      "-----------------\n",
      "Iteration number 13\n",
      "Updating goodness\n",
      "Updating fairness\n",
      "Differences in fairness score and goodness score = 0.00, 0.00\n",
      "-----------------\n",
      "Iteration number 14\n",
      "Updating goodness\n",
      "Updating fairness\n",
      "Differences in fairness score and goodness score = 0.00, 0.00\n"
     ]
    }
   ],
   "source": [
    "fairness, goodness = compute_fairness_goodness(G)"
   ]
  },
  {
   "cell_type": "code",
   "execution_count": 11,
   "metadata": {},
   "outputs": [
    {
     "ename": "KeyError",
     "evalue": "\"None of [Index(['node1', 'node2'], dtype='object')] are in the [columns]\"",
     "output_type": "error",
     "traceback": [
      "\u001b[1;31m---------------------------------------------------------------------------\u001b[0m",
      "\u001b[1;31mKeyError\u001b[0m                                  Traceback (most recent call last)",
      "\u001b[1;32m<ipython-input-11-fd1512224750>\u001b[0m in \u001b[0;36m<module>\u001b[1;34m\u001b[0m\n\u001b[0;32m      2\u001b[0m \u001b[0mdf\u001b[0m \u001b[1;33m=\u001b[0m \u001b[0mpd\u001b[0m\u001b[1;33m.\u001b[0m\u001b[0mDataFrame\u001b[0m\u001b[1;33m(\u001b[0m\u001b[1;33m)\u001b[0m\u001b[1;33m\u001b[0m\u001b[1;33m\u001b[0m\u001b[0m\n\u001b[0;32m      3\u001b[0m \u001b[1;33m\u001b[0m\u001b[0m\n\u001b[1;32m----> 4\u001b[1;33m \u001b[0mdf\u001b[0m\u001b[1;33m[\u001b[0m\u001b[1;34m'Id'\u001b[0m\u001b[1;33m]\u001b[0m \u001b[1;33m=\u001b[0m \u001b[0mdf_f\u001b[0m\u001b[1;33m[\u001b[0m\u001b[1;33m[\u001b[0m\u001b[1;34m'node1'\u001b[0m\u001b[1;33m,\u001b[0m \u001b[1;34m'node2'\u001b[0m\u001b[1;33m]\u001b[0m\u001b[1;33m]\u001b[0m\u001b[1;33m.\u001b[0m\u001b[0mapply\u001b[0m\u001b[1;33m(\u001b[0m\u001b[1;32mlambda\u001b[0m \u001b[0mx\u001b[0m\u001b[1;33m:\u001b[0m \u001b[1;34m'-'\u001b[0m\u001b[1;33m.\u001b[0m\u001b[0mjoin\u001b[0m\u001b[1;33m(\u001b[0m\u001b[0mx\u001b[0m\u001b[1;33m.\u001b[0m\u001b[0mfillna\u001b[0m\u001b[1;33m(\u001b[0m\u001b[1;34m''\u001b[0m\u001b[1;33m)\u001b[0m\u001b[1;33m.\u001b[0m\u001b[0mmap\u001b[0m\u001b[1;33m(\u001b[0m\u001b[0mstr\u001b[0m\u001b[1;33m)\u001b[0m\u001b[1;33m)\u001b[0m\u001b[1;33m,\u001b[0m \u001b[0maxis\u001b[0m\u001b[1;33m=\u001b[0m\u001b[1;36m1\u001b[0m\u001b[1;33m)\u001b[0m\u001b[1;33m\u001b[0m\u001b[1;33m\u001b[0m\u001b[0m\n\u001b[0m\u001b[0;32m      5\u001b[0m \u001b[0mdf\u001b[0m\u001b[1;33m[\u001b[0m\u001b[1;34m'Id'\u001b[0m\u001b[1;33m]\u001b[0m \u001b[1;33m=\u001b[0m \u001b[0mdf\u001b[0m\u001b[1;33m[\u001b[0m\u001b[1;34m'Id'\u001b[0m\u001b[1;33m]\u001b[0m\u001b[1;33m.\u001b[0m\u001b[0mstr\u001b[0m\u001b[1;33m.\u001b[0m\u001b[0mstrip\u001b[0m\u001b[1;33m(\u001b[0m\u001b[1;34m'-'\u001b[0m\u001b[1;33m)\u001b[0m\u001b[1;33m\u001b[0m\u001b[1;33m\u001b[0m\u001b[0m\n\u001b[0;32m      6\u001b[0m \u001b[1;33m\u001b[0m\u001b[0m\n",
      "\u001b[1;32m~\\Anaconda3\\lib\\site-packages\\pandas\\core\\frame.py\u001b[0m in \u001b[0;36m__getitem__\u001b[1;34m(self, key)\u001b[0m\n\u001b[0;32m   2932\u001b[0m                 \u001b[0mkey\u001b[0m \u001b[1;33m=\u001b[0m \u001b[0mlist\u001b[0m\u001b[1;33m(\u001b[0m\u001b[0mkey\u001b[0m\u001b[1;33m)\u001b[0m\u001b[1;33m\u001b[0m\u001b[1;33m\u001b[0m\u001b[0m\n\u001b[0;32m   2933\u001b[0m             indexer = self.loc._convert_to_indexer(key, axis=1,\n\u001b[1;32m-> 2934\u001b[1;33m                                                    raise_missing=True)\n\u001b[0m\u001b[0;32m   2935\u001b[0m \u001b[1;33m\u001b[0m\u001b[0m\n\u001b[0;32m   2936\u001b[0m         \u001b[1;31m# take() does not accept boolean indexers\u001b[0m\u001b[1;33m\u001b[0m\u001b[1;33m\u001b[0m\u001b[1;33m\u001b[0m\u001b[0m\n",
      "\u001b[1;32m~\\Anaconda3\\lib\\site-packages\\pandas\\core\\indexing.py\u001b[0m in \u001b[0;36m_convert_to_indexer\u001b[1;34m(self, obj, axis, is_setter, raise_missing)\u001b[0m\n\u001b[0;32m   1352\u001b[0m                 kwargs = {'raise_missing': True if is_setter else\n\u001b[0;32m   1353\u001b[0m                           raise_missing}\n\u001b[1;32m-> 1354\u001b[1;33m                 \u001b[1;32mreturn\u001b[0m \u001b[0mself\u001b[0m\u001b[1;33m.\u001b[0m\u001b[0m_get_listlike_indexer\u001b[0m\u001b[1;33m(\u001b[0m\u001b[0mobj\u001b[0m\u001b[1;33m,\u001b[0m \u001b[0maxis\u001b[0m\u001b[1;33m,\u001b[0m \u001b[1;33m**\u001b[0m\u001b[0mkwargs\u001b[0m\u001b[1;33m)\u001b[0m\u001b[1;33m[\u001b[0m\u001b[1;36m1\u001b[0m\u001b[1;33m]\u001b[0m\u001b[1;33m\u001b[0m\u001b[1;33m\u001b[0m\u001b[0m\n\u001b[0m\u001b[0;32m   1355\u001b[0m         \u001b[1;32melse\u001b[0m\u001b[1;33m:\u001b[0m\u001b[1;33m\u001b[0m\u001b[1;33m\u001b[0m\u001b[0m\n\u001b[0;32m   1356\u001b[0m             \u001b[1;32mtry\u001b[0m\u001b[1;33m:\u001b[0m\u001b[1;33m\u001b[0m\u001b[1;33m\u001b[0m\u001b[0m\n",
      "\u001b[1;32m~\\Anaconda3\\lib\\site-packages\\pandas\\core\\indexing.py\u001b[0m in \u001b[0;36m_get_listlike_indexer\u001b[1;34m(self, key, axis, raise_missing)\u001b[0m\n\u001b[0;32m   1159\u001b[0m         self._validate_read_indexer(keyarr, indexer,\n\u001b[0;32m   1160\u001b[0m                                     \u001b[0mo\u001b[0m\u001b[1;33m.\u001b[0m\u001b[0m_get_axis_number\u001b[0m\u001b[1;33m(\u001b[0m\u001b[0maxis\u001b[0m\u001b[1;33m)\u001b[0m\u001b[1;33m,\u001b[0m\u001b[1;33m\u001b[0m\u001b[1;33m\u001b[0m\u001b[0m\n\u001b[1;32m-> 1161\u001b[1;33m                                     raise_missing=raise_missing)\n\u001b[0m\u001b[0;32m   1162\u001b[0m         \u001b[1;32mreturn\u001b[0m \u001b[0mkeyarr\u001b[0m\u001b[1;33m,\u001b[0m \u001b[0mindexer\u001b[0m\u001b[1;33m\u001b[0m\u001b[1;33m\u001b[0m\u001b[0m\n\u001b[0;32m   1163\u001b[0m \u001b[1;33m\u001b[0m\u001b[0m\n",
      "\u001b[1;32m~\\Anaconda3\\lib\\site-packages\\pandas\\core\\indexing.py\u001b[0m in \u001b[0;36m_validate_read_indexer\u001b[1;34m(self, key, indexer, axis, raise_missing)\u001b[0m\n\u001b[0;32m   1244\u001b[0m                 raise KeyError(\n\u001b[0;32m   1245\u001b[0m                     u\"None of [{key}] are in the [{axis}]\".format(\n\u001b[1;32m-> 1246\u001b[1;33m                         key=key, axis=self.obj._get_axis_name(axis)))\n\u001b[0m\u001b[0;32m   1247\u001b[0m \u001b[1;33m\u001b[0m\u001b[0m\n\u001b[0;32m   1248\u001b[0m             \u001b[1;31m# We (temporarily) allow for some missing keys with .loc, except in\u001b[0m\u001b[1;33m\u001b[0m\u001b[1;33m\u001b[0m\u001b[1;33m\u001b[0m\u001b[0m\n",
      "\u001b[1;31mKeyError\u001b[0m: \"None of [Index(['node1', 'node2'], dtype='object')] are in the [columns]\""
     ]
    }
   ],
   "source": [
    "df_f = pd.read_csv('db/OTCNet.csv')\n",
    "df = pd.DataFrame()\n",
    "\n",
    "df['Id'] = df_f[['node1', 'node2']].apply(lambda x: '-'.join(x.fillna('').map(str)), axis=1)\n",
    "df['Id'] = df['Id'].str.strip('-')\n",
    "\n",
    "result_f = {}\n",
    "for index, row in df_f.iterrows():\n",
    "    node = str(int(row['node1']))\n",
    "    result_f[index] = fairness[node]\n",
    "    \n",
    "result_g = {}\n",
    "for index, row in df_f.iterrows():\n",
    "    node = str(int(row['node2']))\n",
    "    result_g[index] = goodness[node]"
   ]
  },
  {
   "cell_type": "code",
   "execution_count": null,
   "metadata": {},
   "outputs": [],
   "source": [
    "df['fairness'] = pd.Series(result_f, index=df_f.index, dtype=float)\n",
    "df['goodness'] = pd.Series(result_g, index=df_f.index, dtype=float)\n",
    "df['rating'] = pd.Series(df_f['rating'], index=df_bd.index, dtype=float)\n",
    "df"
   ]
  }
 ],
 "metadata": {
  "kernelspec": {
   "display_name": "Python 3",
   "language": "python",
   "name": "python3"
  },
  "language_info": {
   "codemirror_mode": {
    "name": "ipython",
    "version": 3
   },
   "file_extension": ".py",
   "mimetype": "text/x-python",
   "name": "python",
   "nbconvert_exporter": "python",
   "pygments_lexer": "ipython3",
   "version": "3.7.3"
  }
 },
 "nbformat": 4,
 "nbformat_minor": 2
}
